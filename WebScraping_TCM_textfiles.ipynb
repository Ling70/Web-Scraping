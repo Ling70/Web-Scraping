{
 "cells": [
  {
   "cell_type": "code",
   "execution_count": 7,
   "metadata": {},
   "outputs": [],
   "source": [
    "import pandas as pd \n",
    "import numpy as np\n",
    "\n",
    "filepath = \"C:/mypath\"\n",
    "df=pd.read_csv(filepath+\"/all_books_and_chapters.csv\")"
   ]
  },
  {
   "cell_type": "code",
   "execution_count": 9,
   "metadata": {},
   "outputs": [],
   "source": [
    "content_dic = {}\n",
    "\n",
    "for i in df.index:\n",
    "\n",
    "    key = (df.at[i, 'name'] ,df.at[i, 'chapter']) #Rename columns accordingly\n",
    "    value = (df.at[i, 'url']) #Rename columns accordingly\n",
    "\n",
    "    dictionary = {key: value}\n",
    "    content_dic.update(dictionary)"
   ]
  },
  {
   "cell_type": "code",
   "execution_count": null,
   "metadata": {},
   "outputs": [],
   "source": [
    "from selenium import webdriver\n",
    "from selenium.webdriver.support.ui import WebDriverWait\n",
    "\n",
    "chrome_path=r'C:/.../chromedriver.exe'\n",
    "\n",
    "for (k1, k2) in content_dic.keys(): \n",
    "    try:\n",
    "        content_url = content_dic[(k1, k2)]\n",
    "        driver=webdriver.Chrome(chrome_path)\n",
    "        driver.get(content_url)\n",
    "\n",
    "        show_element = driver.find_element_by_xpath('//a[contains(@href, \"javascript:ShowYizhu\")]')\n",
    "        show_element.click()\n",
    "\n",
    "        # get original text\n",
    "        original = driver.find_element_by_class_name('contson')\n",
    "\n",
    "        fn_orig = filepath + \"/\" + k1 + \"_\" + k2 + \"_原文\"\n",
    "        file_orig = open(fn_orig,\"w\", encoding='utf-8') \n",
    "        file_orig.write(original.text)\n",
    "        file_orig.close()\n",
    "\n",
    "        # get translation\n",
    "        header_text = driver.find_element_by_xpath(\"//div[@class='shisoncont']/h2\").text\n",
    "        all_text = driver.find_element_by_class_name('shisoncont').text\n",
    "        translator = all_text.replace(header_text, '')\n",
    "\n",
    "        fn_tran = filepath + \"/\" + k1 + \"_\" + k2 + \"_译文\"\n",
    "        file_tran = open(fn_tran,\"w\", encoding='utf-8') \n",
    "        file_tran.write(translator)\n",
    "        file_tran.close()\n",
    "    except:\n",
    "        pass\n",
    "\n",
    "    driver.close()"
   ]
  }
 ],
 "metadata": {
  "kernelspec": {
   "display_name": "Python 3",
   "language": "python",
   "name": "python3"
  },
  "language_info": {
   "codemirror_mode": {
    "name": "ipython",
    "version": 3
   },
   "file_extension": ".py",
   "mimetype": "text/x-python",
   "name": "python",
   "nbconvert_exporter": "python",
   "pygments_lexer": "ipython3",
   "version": "3.6.5"
  }
 },
 "nbformat": 4,
 "nbformat_minor": 2
}
